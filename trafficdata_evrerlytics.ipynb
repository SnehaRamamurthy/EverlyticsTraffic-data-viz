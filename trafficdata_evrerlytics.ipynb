{
 "cells": [
  {
   "cell_type": "markdown",
   "metadata": {},
   "source": [
    "# # Test Analysis using Python"
   ]
  },
  {
   "cell_type": "markdown",
   "metadata": {},
   "source": [
    " Import packages and read data"
   ]
  },
  {
   "cell_type": "code",
   "execution_count": 2,
   "metadata": {},
   "outputs": [],
   "source": [
    "import numpy as np\n",
    "import pandas as pd\n",
    "import os\n",
    "import matplotlib.pyplot as plt\n",
    "import seaborn as sns\n",
    "#import geopandas as gpd\n",
    "#import geoplot as gplt"
   ]
  },
  {
   "cell_type": "code",
   "execution_count": 3,
   "metadata": {},
   "outputs": [],
   "source": [
    "os.chdir(\"C:\\\\everlytics\")"
   ]
  },
  {
   "cell_type": "code",
   "execution_count": 4,
   "metadata": {},
   "outputs": [],
   "source": [
    "data = pd.read_csv(\"Speed_dataset.csv\")\n"
   ]
  },
  {
   "cell_type": "code",
   "execution_count": 5,
   "metadata": {},
   "outputs": [
    {
     "data": {
      "text/html": [
       "<div>\n",
       "<style scoped>\n",
       "    .dataframe tbody tr th:only-of-type {\n",
       "        vertical-align: middle;\n",
       "    }\n",
       "\n",
       "    .dataframe tbody tr th {\n",
       "        vertical-align: top;\n",
       "    }\n",
       "\n",
       "    .dataframe thead th {\n",
       "        text-align: right;\n",
       "    }\n",
       "</style>\n",
       "<table border=\"1\" class=\"dataframe\">\n",
       "  <thead>\n",
       "    <tr style=\"text-align: right;\">\n",
       "      <th></th>\n",
       "      <th>latitude</th>\n",
       "      <th>longitude</th>\n",
       "      <th>timestamp</th>\n",
       "      <th>speed_mph</th>\n",
       "      <th>speedlimit_mph</th>\n",
       "      <th>functionalClass</th>\n",
       "      <th>controlledAccess</th>\n",
       "      <th>isHighway</th>\n",
       "      <th>state</th>\n",
       "      <th>vehicle_id</th>\n",
       "      <th>driver_id</th>\n",
       "    </tr>\n",
       "  </thead>\n",
       "  <tbody>\n",
       "    <tr>\n",
       "      <th>343618</th>\n",
       "      <td>34.389706</td>\n",
       "      <td>-77.893105</td>\n",
       "      <td>11/30/2015 23:47</td>\n",
       "      <td>3</td>\n",
       "      <td>55</td>\n",
       "      <td>4</td>\n",
       "      <td>N</td>\n",
       "      <td>1</td>\n",
       "      <td>NC</td>\n",
       "      <td>1191353</td>\n",
       "      <td>1163791</td>\n",
       "    </tr>\n",
       "    <tr>\n",
       "      <th>343619</th>\n",
       "      <td>34.764725</td>\n",
       "      <td>-78.996834</td>\n",
       "      <td>11/30/2015 23:49</td>\n",
       "      <td>63</td>\n",
       "      <td>65</td>\n",
       "      <td>1</td>\n",
       "      <td>Y</td>\n",
       "      <td>1</td>\n",
       "      <td>NC</td>\n",
       "      <td>1208979</td>\n",
       "      <td>5693</td>\n",
       "    </tr>\n",
       "    <tr>\n",
       "      <th>343620</th>\n",
       "      <td>34.978119</td>\n",
       "      <td>-78.127838</td>\n",
       "      <td>11/30/2015 23:51</td>\n",
       "      <td>65</td>\n",
       "      <td>70</td>\n",
       "      <td>2</td>\n",
       "      <td>Y</td>\n",
       "      <td>1</td>\n",
       "      <td>NC</td>\n",
       "      <td>1280223</td>\n",
       "      <td>916461</td>\n",
       "    </tr>\n",
       "    <tr>\n",
       "      <th>343621</th>\n",
       "      <td>35.658798</td>\n",
       "      <td>-78.092133</td>\n",
       "      <td>11/30/2015 23:51</td>\n",
       "      <td>64</td>\n",
       "      <td>70</td>\n",
       "      <td>1</td>\n",
       "      <td>Y</td>\n",
       "      <td>1</td>\n",
       "      <td>NC</td>\n",
       "      <td>1462</td>\n",
       "      <td>1222453</td>\n",
       "    </tr>\n",
       "    <tr>\n",
       "      <th>343622</th>\n",
       "      <td>35.568218</td>\n",
       "      <td>-78.341431</td>\n",
       "      <td>11/30/2015 23:51</td>\n",
       "      <td>52</td>\n",
       "      <td>55</td>\n",
       "      <td>2</td>\n",
       "      <td>N</td>\n",
       "      <td>1</td>\n",
       "      <td>NC</td>\n",
       "      <td>550272</td>\n",
       "      <td>1305549</td>\n",
       "    </tr>\n",
       "    <tr>\n",
       "      <th>343623</th>\n",
       "      <td>36.299755</td>\n",
       "      <td>-76.251152</td>\n",
       "      <td>11/30/2015 23:51</td>\n",
       "      <td>46</td>\n",
       "      <td>50</td>\n",
       "      <td>3</td>\n",
       "      <td>N</td>\n",
       "      <td>0</td>\n",
       "      <td>NC</td>\n",
       "      <td>607681</td>\n",
       "      <td>991329</td>\n",
       "    </tr>\n",
       "    <tr>\n",
       "      <th>343624</th>\n",
       "      <td>34.622124</td>\n",
       "      <td>-79.050201</td>\n",
       "      <td>11/30/2015 23:51</td>\n",
       "      <td>11</td>\n",
       "      <td>35</td>\n",
       "      <td>4</td>\n",
       "      <td>N</td>\n",
       "      <td>0</td>\n",
       "      <td>NC</td>\n",
       "      <td>1351613</td>\n",
       "      <td>322085</td>\n",
       "    </tr>\n",
       "    <tr>\n",
       "      <th>343625</th>\n",
       "      <td>35.548748</td>\n",
       "      <td>-78.304947</td>\n",
       "      <td>11/30/2015 23:51</td>\n",
       "      <td>4</td>\n",
       "      <td>45</td>\n",
       "      <td>4</td>\n",
       "      <td>N</td>\n",
       "      <td>0</td>\n",
       "      <td>NC</td>\n",
       "      <td>550768</td>\n",
       "      <td>1288064</td>\n",
       "    </tr>\n",
       "    <tr>\n",
       "      <th>343626</th>\n",
       "      <td>35.822601</td>\n",
       "      <td>-79.572960</td>\n",
       "      <td>11/30/2015 23:52</td>\n",
       "      <td>65</td>\n",
       "      <td>65</td>\n",
       "      <td>2</td>\n",
       "      <td>Y</td>\n",
       "      <td>1</td>\n",
       "      <td>NC</td>\n",
       "      <td>617989</td>\n",
       "      <td>1272718</td>\n",
       "    </tr>\n",
       "    <tr>\n",
       "      <th>343627</th>\n",
       "      <td>36.063713</td>\n",
       "      <td>-79.930313</td>\n",
       "      <td>11/30/2015 23:53</td>\n",
       "      <td>16</td>\n",
       "      <td>55</td>\n",
       "      <td>5</td>\n",
       "      <td>N</td>\n",
       "      <td>1</td>\n",
       "      <td>NC</td>\n",
       "      <td>565771</td>\n",
       "      <td>1159793</td>\n",
       "    </tr>\n",
       "  </tbody>\n",
       "</table>\n",
       "</div>"
      ],
      "text/plain": [
       "         latitude  longitude         timestamp  speed_mph  speedlimit_mph  \\\n",
       "343618  34.389706 -77.893105  11/30/2015 23:47          3              55   \n",
       "343619  34.764725 -78.996834  11/30/2015 23:49         63              65   \n",
       "343620  34.978119 -78.127838  11/30/2015 23:51         65              70   \n",
       "343621  35.658798 -78.092133  11/30/2015 23:51         64              70   \n",
       "343622  35.568218 -78.341431  11/30/2015 23:51         52              55   \n",
       "343623  36.299755 -76.251152  11/30/2015 23:51         46              50   \n",
       "343624  34.622124 -79.050201  11/30/2015 23:51         11              35   \n",
       "343625  35.548748 -78.304947  11/30/2015 23:51          4              45   \n",
       "343626  35.822601 -79.572960  11/30/2015 23:52         65              65   \n",
       "343627  36.063713 -79.930313  11/30/2015 23:53         16              55   \n",
       "\n",
       "        functionalClass controlledAccess  isHighway state  vehicle_id  \\\n",
       "343618                4                N          1    NC     1191353   \n",
       "343619                1                Y          1    NC     1208979   \n",
       "343620                2                Y          1    NC     1280223   \n",
       "343621                1                Y          1    NC        1462   \n",
       "343622                2                N          1    NC      550272   \n",
       "343623                3                N          0    NC      607681   \n",
       "343624                4                N          0    NC     1351613   \n",
       "343625                4                N          0    NC      550768   \n",
       "343626                2                Y          1    NC      617989   \n",
       "343627                5                N          1    NC      565771   \n",
       "\n",
       "        driver_id  \n",
       "343618    1163791  \n",
       "343619       5693  \n",
       "343620     916461  \n",
       "343621    1222453  \n",
       "343622    1305549  \n",
       "343623     991329  \n",
       "343624     322085  \n",
       "343625    1288064  \n",
       "343626    1272718  \n",
       "343627    1159793  "
      ]
     },
     "execution_count": 5,
     "metadata": {},
     "output_type": "execute_result"
    }
   ],
   "source": [
    "data.tail(10)"
   ]
  },
  {
   "cell_type": "code",
   "execution_count": 7,
   "metadata": {},
   "outputs": [],
   "source": [
    "def missing_values_table(df):\n",
    "        # Total missing values\n",
    "        mis_val = df.isnull().sum()\n",
    "        \n",
    "        # Percentage of missing values\n",
    "        mis_val_percent = 100 * df.isnull().sum() / len(df)\n",
    "        \n",
    "        # Make a table with the results\n",
    "        mis_val_table = pd.concat([mis_val, mis_val_percent], axis=1)\n",
    "        \n",
    "        # Rename the columns\n",
    "        mis_val_table_ren_columns = mis_val_table.rename(\n",
    "        columns = {0 : 'Missing Values', 1 : '% of Total Values'})\n",
    "        \n",
    "        # Sort the table by percentage of missing descending\n",
    "        mis_val_table_ren_columns = mis_val_table_ren_columns[\n",
    "            mis_val_table_ren_columns.iloc[:,1] != 0].sort_values(\n",
    "        '% of Total Values', ascending=False).round(1)\n",
    "        \n",
    "        # Print some summary information\n",
    "        print (\"Your selected dataframe has \" + str(df.shape[1]) + \" columns.\\n\"      \n",
    "            \"There are \" + str(mis_val_table_ren_columns.shape[0]) +\n",
    "              \" columns that have missing values.\")\n",
    "        \n",
    "        # Return the dataframe with missing information\n",
    "        return mis_val_table_ren_columns\n",
    "\n"
   ]
  },
  {
   "cell_type": "code",
   "execution_count": 8,
   "metadata": {},
   "outputs": [
    {
     "data": {
      "text/plain": [
       "(343628, 11)"
      ]
     },
     "execution_count": 8,
     "metadata": {},
     "output_type": "execute_result"
    }
   ],
   "source": [
    "data.shape  ## 3,43,628 ,11"
   ]
  },
  {
   "cell_type": "code",
   "execution_count": 9,
   "metadata": {},
   "outputs": [
    {
     "name": "stdout",
     "output_type": "stream",
     "text": [
      "Your selected dataframe has 11 columns.\n",
      "There are 0 columns that have missing values.\n"
     ]
    },
    {
     "data": {
      "text/html": [
       "<div>\n",
       "<style scoped>\n",
       "    .dataframe tbody tr th:only-of-type {\n",
       "        vertical-align: middle;\n",
       "    }\n",
       "\n",
       "    .dataframe tbody tr th {\n",
       "        vertical-align: top;\n",
       "    }\n",
       "\n",
       "    .dataframe thead th {\n",
       "        text-align: right;\n",
       "    }\n",
       "</style>\n",
       "<table border=\"1\" class=\"dataframe\">\n",
       "  <thead>\n",
       "    <tr style=\"text-align: right;\">\n",
       "      <th></th>\n",
       "      <th>Missing Values</th>\n",
       "      <th>% of Total Values</th>\n",
       "    </tr>\n",
       "  </thead>\n",
       "  <tbody>\n",
       "  </tbody>\n",
       "</table>\n",
       "</div>"
      ],
      "text/plain": [
       "Empty DataFrame\n",
       "Columns: [Missing Values, % of Total Values]\n",
       "Index: []"
      ]
     },
     "execution_count": 9,
     "metadata": {},
     "output_type": "execute_result"
    }
   ],
   "source": [
    "missing_values_table(data)   ## no missing data "
   ]
  },
  {
   "cell_type": "markdown",
   "metadata": {},
   "source": [
    "Data exploration"
   ]
  },
  {
   "cell_type": "code",
   "execution_count": 10,
   "metadata": {},
   "outputs": [
    {
     "data": {
      "text/plain": [
       "Index(['latitude', 'longitude', 'timestamp', 'speed_mph', 'speedlimit_mph',\n",
       "       'functionalClass', 'controlledAccess', 'isHighway', 'state',\n",
       "       'vehicle_id', 'driver_id'],\n",
       "      dtype='object')"
      ]
     },
     "execution_count": 10,
     "metadata": {},
     "output_type": "execute_result"
    }
   ],
   "source": [
    "data.columns\n",
    "\n",
    "#Index(['latitude', 'longitude', 'timestamp', 'speed_mph', 'speedlimit_mph',\n",
    "#      'functionalClass', 'controlledAccess', 'isHighway', 'state',\n",
    "#       'vehicle_id', 'driver_id'],\n",
    "#     dtype='object')\n"
   ]
  },
  {
   "cell_type": "code",
   "execution_count": 11,
   "metadata": {},
   "outputs": [],
   "source": [
    "data['timestamp'] =  pd.to_datetime(data['timestamp'])   #6/1/2015 0:04"
   ]
  },
  {
   "cell_type": "code",
   "execution_count": 12,
   "metadata": {},
   "outputs": [
    {
     "data": {
      "text/plain": [
       "dtype('<M8[ns]')"
      ]
     },
     "execution_count": 12,
     "metadata": {},
     "output_type": "execute_result"
    }
   ],
   "source": [
    "data.timestamp.dtype"
   ]
  },
  {
   "cell_type": "code",
   "execution_count": null,
   "metadata": {},
   "outputs": [],
   "source": [
    "data.timestamp.head(10)"
   ]
  },
  {
   "cell_type": "code",
   "execution_count": 22,
   "metadata": {},
   "outputs": [
    {
     "data": {
      "text/html": [
       "<div>\n",
       "<style scoped>\n",
       "    .dataframe tbody tr th:only-of-type {\n",
       "        vertical-align: middle;\n",
       "    }\n",
       "\n",
       "    .dataframe tbody tr th {\n",
       "        vertical-align: top;\n",
       "    }\n",
       "\n",
       "    .dataframe thead th {\n",
       "        text-align: right;\n",
       "    }\n",
       "</style>\n",
       "<table border=\"1\" class=\"dataframe\">\n",
       "  <thead>\n",
       "    <tr style=\"text-align: right;\">\n",
       "      <th></th>\n",
       "      <th>latitude</th>\n",
       "      <th>longitude</th>\n",
       "      <th>speed_mph</th>\n",
       "      <th>speedlimit_mph</th>\n",
       "      <th>functionalClass</th>\n",
       "      <th>isHighway</th>\n",
       "      <th>vehicle_id</th>\n",
       "      <th>driver_id</th>\n",
       "    </tr>\n",
       "  </thead>\n",
       "  <tbody>\n",
       "    <tr>\n",
       "      <th>count</th>\n",
       "      <td>343628.000000</td>\n",
       "      <td>343628.000000</td>\n",
       "      <td>343628.000000</td>\n",
       "      <td>343628.000000</td>\n",
       "      <td>343628.000000</td>\n",
       "      <td>343628.000000</td>\n",
       "      <td>3.436280e+05</td>\n",
       "      <td>3.436280e+05</td>\n",
       "    </tr>\n",
       "    <tr>\n",
       "      <th>mean</th>\n",
       "      <td>35.504742</td>\n",
       "      <td>-78.495537</td>\n",
       "      <td>38.176129</td>\n",
       "      <td>54.442391</td>\n",
       "      <td>3.040398</td>\n",
       "      <td>0.683640</td>\n",
       "      <td>8.401167e+05</td>\n",
       "      <td>5.650171e+05</td>\n",
       "    </tr>\n",
       "    <tr>\n",
       "      <th>std</th>\n",
       "      <td>0.794903</td>\n",
       "      <td>0.910243</td>\n",
       "      <td>24.945979</td>\n",
       "      <td>10.014904</td>\n",
       "      <td>1.368529</td>\n",
       "      <td>0.465056</td>\n",
       "      <td>5.027187e+05</td>\n",
       "      <td>5.193492e+05</td>\n",
       "    </tr>\n",
       "    <tr>\n",
       "      <th>min</th>\n",
       "      <td>33.318760</td>\n",
       "      <td>-84.402771</td>\n",
       "      <td>1.000000</td>\n",
       "      <td>20.000000</td>\n",
       "      <td>0.000000</td>\n",
       "      <td>0.000000</td>\n",
       "      <td>1.429000e+03</td>\n",
       "      <td>0.000000e+00</td>\n",
       "    </tr>\n",
       "    <tr>\n",
       "      <th>25%</th>\n",
       "      <td>35.005116</td>\n",
       "      <td>-78.926933</td>\n",
       "      <td>10.000000</td>\n",
       "      <td>45.000000</td>\n",
       "      <td>2.000000</td>\n",
       "      <td>0.000000</td>\n",
       "      <td>5.350240e+05</td>\n",
       "      <td>3.871900e+04</td>\n",
       "    </tr>\n",
       "    <tr>\n",
       "      <th>50%</th>\n",
       "      <td>35.531018</td>\n",
       "      <td>-78.458893</td>\n",
       "      <td>44.000000</td>\n",
       "      <td>55.000000</td>\n",
       "      <td>3.000000</td>\n",
       "      <td>1.000000</td>\n",
       "      <td>6.179890e+05</td>\n",
       "      <td>4.662930e+05</td>\n",
       "    </tr>\n",
       "    <tr>\n",
       "      <th>75%</th>\n",
       "      <td>35.794942</td>\n",
       "      <td>-78.122360</td>\n",
       "      <td>64.000000</td>\n",
       "      <td>65.000000</td>\n",
       "      <td>4.000000</td>\n",
       "      <td>1.000000</td>\n",
       "      <td>1.207151e+06</td>\n",
       "      <td>1.144565e+06</td>\n",
       "    </tr>\n",
       "    <tr>\n",
       "      <th>max</th>\n",
       "      <td>38.641785</td>\n",
       "      <td>-75.599670</td>\n",
       "      <td>79.000000</td>\n",
       "      <td>70.000000</td>\n",
       "      <td>5.000000</td>\n",
       "      <td>1.000000</td>\n",
       "      <td>1.889852e+06</td>\n",
       "      <td>1.393454e+06</td>\n",
       "    </tr>\n",
       "  </tbody>\n",
       "</table>\n",
       "</div>"
      ],
      "text/plain": [
       "            latitude      longitude      speed_mph  speedlimit_mph  \\\n",
       "count  343628.000000  343628.000000  343628.000000   343628.000000   \n",
       "mean       35.504742     -78.495537      38.176129       54.442391   \n",
       "std         0.794903       0.910243      24.945979       10.014904   \n",
       "min        33.318760     -84.402771       1.000000       20.000000   \n",
       "25%        35.005116     -78.926933      10.000000       45.000000   \n",
       "50%        35.531018     -78.458893      44.000000       55.000000   \n",
       "75%        35.794942     -78.122360      64.000000       65.000000   \n",
       "max        38.641785     -75.599670      79.000000       70.000000   \n",
       "\n",
       "       functionalClass      isHighway    vehicle_id     driver_id  \n",
       "count    343628.000000  343628.000000  3.436280e+05  3.436280e+05  \n",
       "mean          3.040398       0.683640  8.401167e+05  5.650171e+05  \n",
       "std           1.368529       0.465056  5.027187e+05  5.193492e+05  \n",
       "min           0.000000       0.000000  1.429000e+03  0.000000e+00  \n",
       "25%           2.000000       0.000000  5.350240e+05  3.871900e+04  \n",
       "50%           3.000000       1.000000  6.179890e+05  4.662930e+05  \n",
       "75%           4.000000       1.000000  1.207151e+06  1.144565e+06  \n",
       "max           5.000000       1.000000  1.889852e+06  1.393454e+06  "
      ]
     },
     "execution_count": 22,
     "metadata": {},
     "output_type": "execute_result"
    }
   ],
   "source": [
    "data['state'].value_counts()\n",
    "data['functionalClass'].value_counts()\n",
    "data['controlledAccess'].value_counts()\n",
    "data['isHighway'].value_counts()\n",
    "data['vehicle_id'].isna()\n",
    "data.describe()"
   ]
  },
  {
   "cell_type": "code",
   "execution_count": 23,
   "metadata": {},
   "outputs": [],
   "source": [
    "overspeed =[]\n",
    "\n",
    "for i in range (0,343628):\n",
    "        if data.iloc[i,3] > data.iloc[i,4]:\n",
    "                overspeed.append('1')\n",
    "        else:\n",
    "            overspeed.append('0')\n",
    "   "
   ]
  },
  {
   "cell_type": "code",
   "execution_count": 24,
   "metadata": {},
   "outputs": [],
   "source": [
    "\n",
    "\n",
    "overspeed = pd.DataFrame(overspeed)"
   ]
  },
  {
   "cell_type": "code",
   "execution_count": 25,
   "metadata": {},
   "outputs": [
    {
     "data": {
      "text/plain": [
       "(343628, 1)"
      ]
     },
     "execution_count": 25,
     "metadata": {},
     "output_type": "execute_result"
    }
   ],
   "source": [
    "overspeed.shape\n"
   ]
  },
  {
   "cell_type": "code",
   "execution_count": 26,
   "metadata": {},
   "outputs": [],
   "source": [
    "data = pd.concat([data,overspeed],axis=1)\n"
   ]
  },
  {
   "cell_type": "code",
   "execution_count": 27,
   "metadata": {},
   "outputs": [
    {
     "data": {
      "text/plain": [
       "Index([        'latitude',        'longitude',        'timestamp',\n",
       "              'speed_mph',   'speedlimit_mph',  'functionalClass',\n",
       "       'controlledAccess',        'isHighway',            'state',\n",
       "             'vehicle_id',        'driver_id',        'Overspeed',\n",
       "                        0],\n",
       "      dtype='object')"
      ]
     },
     "execution_count": 27,
     "metadata": {},
     "output_type": "execute_result"
    }
   ],
   "source": [
    "data.columns\n"
   ]
  },
  {
   "cell_type": "code",
   "execution_count": 28,
   "metadata": {},
   "outputs": [],
   "source": [
    "data = data.rename(columns={ data.columns[11]: \"Overspeed\" })"
   ]
  },
  {
   "cell_type": "code",
   "execution_count": 29,
   "metadata": {},
   "outputs": [],
   "source": [
    "overs = pd.DataFrame(data['Overspeed'].value_counts())\n",
    "overs['YesNo'] = ['0','1']"
   ]
  },
  {
   "cell_type": "code",
   "execution_count": 30,
   "metadata": {},
   "outputs": [
    {
     "data": {
      "image/png": "[encoded data removed]",
      "text/plain": [
       "<Figure size 432x288 with 1 Axes>"
      ]
     },
     "metadata": {},
     "output_type": "display_data"
    }
   ],
   "source": [
    "\n",
    "plt.barh(overs.YesNo, overs.Overspeed,align='center',\n",
    "        color='lightblue')\n",
    "plt.ylabel('Overspeeding Yes/ No')\n",
    "plt.xlabel('Counts')\n",
    "plt.text(-2,0.5,'81% YES, 19% NO')\n",
    "plt.show()"
   ]
  },
  {
   "cell_type": "markdown",
   "metadata": {},
   "source": [
    "# to check during what time overspeeding occurs most"
   ]
  },
  {
   "cell_type": "code",
   "execution_count": 31,
   "metadata": {},
   "outputs": [],
   "source": [
    "data['time']= data['timestamp'].dt.time"
   ]
  },
  {
   "cell_type": "code",
   "execution_count": 32,
   "metadata": {},
   "outputs": [],
   "source": [
    "data_bytime =  pd.concat([data.time,data.Overspeed], axis=1)\n"
   ]
  },
  {
   "cell_type": "code",
   "execution_count": null,
   "metadata": {},
   "outputs": [],
   "source": [
    "data_bytime.sort_values(by=['time'])"
   ]
  },
  {
   "cell_type": "code",
   "execution_count": 34,
   "metadata": {},
   "outputs": [],
   "source": [
    "data_bytime[['h','m','s']] = data_bytime['time'].astype(str).str.split(':', expand=True).astype(int)"
   ]
  },
  {
   "cell_type": "code",
   "execution_count": 35,
   "metadata": {},
   "outputs": [
    {
     "data": {
      "text/plain": [
       "Text(0.5,1,'Hourly distribution of Overspeeding cases')"
      ]
     },
     "execution_count": 35,
     "metadata": {},
     "output_type": "execute_result"
    },
    {
     "data": {
      "image/png": "[encoded data removed]",
      "text/plain": [
       "<Figure size 504x360 with 1 Axes>"
      ]
     },
     "metadata": {},
     "output_type": "display_data"
    }
   ],
   "source": [
    "data_bytime.groupby('h')['Overspeed'].count().plot(kind='bar', figsize=(7,5),\n",
    "                                        color=\"coral\", fontsize=13)\n",
    "plt.xlabel(\"Hours\")\n",
    "plt.ylabel(\"Counts of Overspeeding\")\n",
    "plt.title(\"Hourly distribution of Overspeeding cases\")"
   ]
  },
  {
   "cell_type": "markdown",
   "metadata": {},
   "source": [
    "Violin plot for  Speed mph"
   ]
  },
  {
   "cell_type": "code",
   "execution_count": null,
   "metadata": {},
   "outputs": [],
   "source": [
    "sns.set(style=\"whitegrid\")\n",
    "hourspeed =data_bytime.groupby('h')['Overspeed'].count()\n",
    "hourspeed = pd.DataFrame(hourspeed)\n",
    "hourspeed.columns = ['Overspeed']\n",
    "hourspeed['Hours']=['0','1','2','3','4','5','6','7','8','9','10','11','12','13','14','15','16','17','18','19','20','21','22','23']\n",
    "hourspeed['Hours'].astype(int)"
   ]
  },
  {
   "cell_type": "code",
   "execution_count": 38,
   "metadata": {},
   "outputs": [],
   "source": [
    "hourspeed = hourspeed.sort_values(by=['Hours'])"
   ]
  },
  {
   "cell_type": "code",
   "execution_count": 37,
   "metadata": {},
   "outputs": [
    {
     "data": {
      "text/plain": [
       "<matplotlib.axes._subplots.AxesSubplot at 0x1b54cf60>"
      ]
     },
     "execution_count": 37,
     "metadata": {},
     "output_type": "execute_result"
    },
    {
     "data": {
      "image/png": "[encoded data removed]",
      "text/plain": [
       "<Figure size 432x288 with 1 Axes>"
      ]
     },
     "metadata": {},
     "output_type": "display_data"
    }
   ],
   "source": [
    "\n",
    "sns.swarmplot(x=\"Hours\", y=\"Overspeed\", data=hourspeed)"
   ]
  },
  {
   "cell_type": "code",
   "execution_count": 39,
   "metadata": {},
   "outputs": [
    {
     "data": {
      "text/plain": [
       "functionalClass\n",
       "0    0\n",
       "1    1\n",
       "2    2\n",
       "3    3\n",
       "4    4\n",
       "5    5\n",
       "Name: Funclass, dtype: int32"
      ]
     },
     "execution_count": 39,
     "metadata": {},
     "output_type": "execute_result"
    }
   ],
   "source": [
    "data_byfunclass = data.groupby('functionalClass')['Overspeed'].count()\n",
    "data_byfunclass= pd.DataFrame(data_byfunclass)\n",
    "data_byfunclass.columns = ['Overspeed']\n",
    "data_byfunclass['Funclass']=['0','1','2','3','4','5']\n",
    "data_byfunclass['Funclass'].astype(int)"
   ]
  },
  {
   "cell_type": "code",
   "execution_count": 30,
   "metadata": {},
   "outputs": [
    {
     "data": {
      "text/plain": [
       "<seaborn.axisgrid.FacetGrid at 0x1353b6a0>"
      ]
     },
     "execution_count": 30,
     "metadata": {},
     "output_type": "execute_result"
    },
    {
     "data": {
      "image/png": "[encoded data removed]",
      "text/plain": [
       "<Figure size 525.35x432 with 1 Axes>"
      ]
     },
     "metadata": {},
     "output_type": "display_data"
    }
   ],
   "source": [
    "g=sns.relplot(x=\"Funclass\", y=\"Overspeed\",size=\"Overspeed\",\n",
    "            sizes=(40, 400), alpha=.5,\n",
    "            height=6, data=data_byfunclass)\n",
    "g.set_titles(\"Functional Class of road\")"
   ]
  },
  {
   "cell_type": "code",
   "execution_count": 40,
   "metadata": {},
   "outputs": [
    {
     "data": {
      "text/plain": [
       "controlledAccess\n",
       "N    0\n",
       "Y    1\n",
       "Name: AccessControl, dtype: int32"
      ]
     },
     "execution_count": 40,
     "metadata": {},
     "output_type": "execute_result"
    }
   ],
   "source": [
    "data_byaccess = data.groupby('controlledAccess')['Overspeed'].count()\n",
    "data_byaccess= pd.DataFrame(data_byaccess)\n",
    "data_byaccess.columns = ['Overspeed']\n",
    "data_byaccess['AccessControl']=['0','1']\n",
    "data_byaccess['AccessControl'].astype(int)"
   ]
  },
  {
   "cell_type": "code",
   "execution_count": 41,
   "metadata": {},
   "outputs": [
    {
     "data": {
      "text/plain": [
       "<seaborn.axisgrid.FacetGrid at 0x5134da0>"
      ]
     },
     "execution_count": 41,
     "metadata": {},
     "output_type": "execute_result"
    },
    {
     "data": {
      "image/png": "[encoded data removed]",
      "text/plain": [
       "<Figure size 432x432 with 1 Axes>"
      ]
     },
     "metadata": {},
     "output_type": "display_data"
    }
   ],
   "source": [
    "p = sns.catplot(x=\"AccessControl\", y=\"Overspeed\", data=data_byaccess,\n",
    "                height=6, kind=\"bar\")\n",
    "p.despine(left=True)\n",
    "p.set_ylabels(\"Controlled Access Y/N\")"
   ]
  },
  {
   "cell_type": "code",
   "execution_count": 42,
   "metadata": {},
   "outputs": [],
   "source": [
    "data_by2 = data.groupby(['controlledAccess','functionalClass'])['Overspeed'].count()"
   ]
  },
  {
   "cell_type": "code",
   "execution_count": 43,
   "metadata": {},
   "outputs": [
    {
     "data": {
      "text/plain": [
       "controlledAccess  functionalClass\n",
       "N                 0                  0\n",
       "                  2                  2\n",
       "                  3                  3\n",
       "                  4                  4\n",
       "                  5                  5\n",
       "Y                 1                  1\n",
       "                  2                  2\n",
       "                  3                  3\n",
       "                  4                  4\n",
       "Name: funclass, dtype: int32"
      ]
     },
     "execution_count": 43,
     "metadata": {},
     "output_type": "execute_result"
    }
   ],
   "source": [
    "data_by2 = pd.DataFrame(data_by2)\n",
    "data_by2.columns\n",
    "\n",
    "\n",
    "data_by2['AccessControl']=['0','0','0','0','0','1','1','1','1']\n",
    "data_by2['AccessControl'].astype(int)\n",
    "data_by2['funclass']=['0','2','3','4','5','1','2','3','4']\n",
    "data_by2['funclass'].astype(int)\n"
   ]
  },
  {
   "cell_type": "code",
   "execution_count": 44,
   "metadata": {},
   "outputs": [
    {
     "data": {
      "image/png": "[encoded data removed]",
      "text/plain": [
       "<Figure size 360x180 with 2 Axes>"
      ]
     },
     "metadata": {},
     "output_type": "display_data"
    }
   ],
   "source": [
    "pp = sns.pairplot(data=data_by2,\n",
    "                  y_vars=['Overspeed'],\n",
    "                  x_vars=['AccessControl','funclass'],\n",
    "                  )"
   ]
  },
  {
   "cell_type": "markdown",
   "metadata": {},
   "source": [
    "Geospatial data"
   ]
  },
  {
   "cell_type": "code",
   "execution_count": null,
   "metadata": {},
   "outputs": [],
   "source": [
    "import geopandas as gpd\n",
    "import geoplot as gplt\n",
    "\n",
    "%matplotlib inline"
   ]
  }
 ],
 "metadata": {
  "kernelspec": {
   "display_name": "Python 3",
   "language": "python",
   "name": "python3"
  },
  "language_info": {
   "codemirror_mode": {
    "name": "ipython",
    "version": 3
   },
   "file_extension": ".py",
   "mimetype": "text/x-python",
   "name": "python",
   "nbconvert_exporter": "python",
   "pygments_lexer": "ipython3",
   "version": "3.6.5"
  }
 },
 "nbformat": 4,
 "nbformat_minor": 2
}
